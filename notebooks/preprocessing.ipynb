{
 "cells": [
  {
   "cell_type": "code",
   "execution_count": 1,
   "id": "3e857dd5-7e82-42da-9650-b3e9e1504303",
   "metadata": {},
   "outputs": [],
   "source": [
    "import pandas as pd"
   ]
  },
  {
   "cell_type": "code",
   "execution_count": 2,
   "id": "95d955af-7cd3-4612-8721-dc5eaa81337b",
   "metadata": {},
   "outputs": [
    {
     "name": "stdout",
     "output_type": "stream",
     "text": [
      "Primeras filas del DataFrame limpio:\n",
      "                        time     open     high      low    close  Bullish.1  \\\n",
      "0  2022-04-20T02:00:00-05:00  41460.2  41633.7  41286.9  41334.2          0   \n",
      "1  2022-04-20T03:00:00-05:00  41334.2  41516.9  41303.3  41477.5          0   \n",
      "2  2022-04-20T04:00:00-05:00  41477.4  41721.1  41453.0  41537.7          0   \n",
      "3  2022-04-20T05:00:00-05:00  41537.6  41896.0  41447.7  41810.8          0   \n",
      "4  2022-04-20T06:00:00-05:00  41810.8  42188.0  41711.4  42089.0          0   \n",
      "\n",
      "   Bullish+.1  Bearish.1  Bearish+.1  \n",
      "0           0          0           0  \n",
      "1           0          0           0  \n",
      "2           0          0           0  \n",
      "3           0          0           0  \n",
      "4           0          0           0  \n"
     ]
    }
   ],
   "source": [
    "# Ruta del archivo con los datos limpios\n",
    "file_path = './TFM_UNIR/data/processed/BINANCE_BTCUSD_cleaned.csv'\n",
    "\n",
    "# Cargar los datos limpios en un DataFrame\n",
    "df_cleaned = pd.read_csv(file_path)\n",
    "\n",
    "# Mostrar las primeras filas del DataFrame limpio\n",
    "print(\"Primeras filas del DataFrame limpio:\")\n",
    "print(df_cleaned.head())"
   ]
  },
  {
   "cell_type": "code",
   "execution_count": 5,
   "id": "cca15492-687c-4433-8cb9-cbec6ec07ff1",
   "metadata": {},
   "outputs": [
    {
     "name": "stdout",
     "output_type": "stream",
     "text": [
      "\n",
      "Primeras filas del DataFrame después del preprocesamiento:\n",
      "                       time     open     high      low    close  Bullish.1  \\\n",
      "0 2022-04-20 02:00:00-05:00  41460.2  41633.7  41286.9  41334.2          0   \n",
      "1 2022-04-20 03:00:00-05:00  41334.2  41516.9  41303.3  41477.5          0   \n",
      "2 2022-04-20 04:00:00-05:00  41477.4  41721.1  41453.0  41537.7          0   \n",
      "3 2022-04-20 05:00:00-05:00  41537.6  41896.0  41447.7  41810.8          0   \n",
      "4 2022-04-20 06:00:00-05:00  41810.8  42188.0  41711.4  42089.0          0   \n",
      "\n",
      "   Bullish+.1  Bearish.1  Bearish+.1  Go_Short  Go_Long  \n",
      "0           0          0           0         0        0  \n",
      "1           0          0           0         0        0  \n",
      "2           0          0           0         0        0  \n",
      "3           0          0           0         0        0  \n",
      "4           0          0           0         0        0  \n",
      "\n",
      "Información general del DataFrame después del preprocesamiento:\n",
      "<class 'pandas.core.frame.DataFrame'>\n",
      "RangeIndex: 17827 entries, 0 to 17826\n",
      "Data columns (total 11 columns):\n",
      " #   Column      Non-Null Count  Dtype                    \n",
      "---  ------      --------------  -----                    \n",
      " 0   time        17827 non-null  datetime64[ns, UTC-05:00]\n",
      " 1   open        17827 non-null  float64                  \n",
      " 2   high        17827 non-null  float64                  \n",
      " 3   low         17827 non-null  float64                  \n",
      " 4   close       17827 non-null  float64                  \n",
      " 5   Bullish.1   17827 non-null  int64                    \n",
      " 6   Bullish+.1  17827 non-null  int64                    \n",
      " 7   Bearish.1   17827 non-null  int64                    \n",
      " 8   Bearish+.1  17827 non-null  int64                    \n",
      " 9   Go_Short    17827 non-null  int64                    \n",
      " 10  Go_Long     17827 non-null  int64                    \n",
      "dtypes: datetime64[ns, UTC-05:00](1), float64(4), int64(6)\n",
      "memory usage: 1.5 MB\n"
     ]
    }
   ],
   "source": [
    "# Sumar las columnas Bearish+.1 con Bearish.1 y llamarla Go_Short\n",
    "df_cleaned['Go_Short'] = df_cleaned['Bearish+.1'] + df_cleaned['Bearish.1']\n",
    "    \n",
    "# Sumar las columnas Bullish+.1 con Bullish.1 y llamarla Go_Long\n",
    "df_cleaned['Go_Long'] = df_cleaned['Bullish+.1'] + df_cleaned['Bullish.1']\n",
    "    \n",
    "# Convertir la columna 'time' de tipo object a tipo datetime\n",
    "df_cleaned['time'] = pd.to_datetime(df_cleaned['time'])\n",
    "    \n",
    "# Mostrar las primeras filas del DataFrame después del preprocesamiento\n",
    "print(\"\\nPrimeras filas del DataFrame después del preprocesamiento:\")\n",
    "print(df_cleaned.head())\n",
    "\n",
    "# Mostrar información general sobre el DataFrame después del preprocesamiento\n",
    "print(\"\\nInformación general del DataFrame después del preprocesamiento:\")\n",
    "df_cleaned.info()"
   ]
  },
  {
   "cell_type": "code",
   "execution_count": 7,
   "id": "4176223f-6c30-47b7-af7f-47b6be0752b7",
   "metadata": {},
   "outputs": [
    {
     "name": "stdout",
     "output_type": "stream",
     "text": [
      "                       time     open     high      low    close  Go_Short  \\\n",
      "0 2022-04-20 02:00:00-05:00  41460.2  41633.7  41286.9  41334.2         0   \n",
      "1 2022-04-20 03:00:00-05:00  41334.2  41516.9  41303.3  41477.5         0   \n",
      "2 2022-04-20 04:00:00-05:00  41477.4  41721.1  41453.0  41537.7         0   \n",
      "3 2022-04-20 05:00:00-05:00  41537.6  41896.0  41447.7  41810.8         0   \n",
      "4 2022-04-20 06:00:00-05:00  41810.8  42188.0  41711.4  42089.0         0   \n",
      "\n",
      "   Go_Long  \n",
      "0        0  \n",
      "1        0  \n",
      "2        0  \n",
      "3        0  \n",
      "4        0  \n",
      "<class 'pandas.core.frame.DataFrame'>\n",
      "RangeIndex: 17827 entries, 0 to 17826\n",
      "Data columns (total 7 columns):\n",
      " #   Column    Non-Null Count  Dtype                    \n",
      "---  ------    --------------  -----                    \n",
      " 0   time      17827 non-null  datetime64[ns, UTC-05:00]\n",
      " 1   open      17827 non-null  float64                  \n",
      " 2   high      17827 non-null  float64                  \n",
      " 3   low       17827 non-null  float64                  \n",
      " 4   close     17827 non-null  float64                  \n",
      " 5   Go_Short  17827 non-null  int64                    \n",
      " 6   Go_Long   17827 non-null  int64                    \n",
      "dtypes: datetime64[ns, UTC-05:00](1), float64(4), int64(2)\n",
      "memory usage: 975.0 KB\n"
     ]
    }
   ],
   "source": [
    "# Seleccionar solo las columnas especificadas\n",
    "columns_to_keep = ['time', 'open', 'high', 'low', 'close', 'Go_Short', 'Go_Long',]\n",
    "df_preprocessed = df_cleaned[columns_to_keep]\n",
    "\n",
    "# Mostrar las primeras filas del DataFrame filtrado\n",
    "print(df_preprocessed.head())\n",
    "\n",
    "# Mostrar información general sobre el DataFrame filtrado\n",
    "df_preprocessed.info()\n"
   ]
  },
  {
   "cell_type": "code",
   "execution_count": 9,
   "id": "d70fbb70-5840-4c2b-8c80-13c8663ceba1",
   "metadata": {},
   "outputs": [],
   "source": [
    "# Guardar los datos procesados\n",
    "df_preprocessed.to_csv('./TFM_UNIR/data/processed/BINANCE_BTCUSD_preprocessed.csv', index=False)"
   ]
  },
  {
   "cell_type": "code",
   "execution_count": null,
   "id": "1a0c63e1-ad5c-4a83-b5b2-21885d5cc635",
   "metadata": {},
   "outputs": [],
   "source": []
  }
 ],
 "metadata": {
  "kernelspec": {
   "display_name": "Python 3 (ipykernel)",
   "language": "python",
   "name": "python3"
  },
  "language_info": {
   "codemirror_mode": {
    "name": "ipython",
    "version": 3
   },
   "file_extension": ".py",
   "mimetype": "text/x-python",
   "name": "python",
   "nbconvert_exporter": "python",
   "pygments_lexer": "ipython3",
   "version": "3.11.7"
  }
 },
 "nbformat": 4,
 "nbformat_minor": 5
}
